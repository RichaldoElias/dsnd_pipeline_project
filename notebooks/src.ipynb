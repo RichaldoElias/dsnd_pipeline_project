{
 "cells": [
  {
   "cell_type": "markdown",
   "id": "992c43d9",
   "metadata": {},
   "source": [
    "## Data Dictionary:\n",
    "\n",
    "There are 8 features for to use to predict whether a customer recommends or does\n",
    "not recommend a product.\n",
    "The `Recommended IND` column gives whether a customer recommends the product\n",
    "where `1` is recommended and a `0` is not recommended.\n",
    "This is your model's target\n",
    "\n",
    "The features can be summarized as the following:\n",
    "\n",
    "- **`Clothing ID`**: Integer Categorical variable that refers to the specific piece being reviewed.\n",
    "- **`Age`**: Positive Integer variable of the reviewers age.\n",
    "- **`Title`**: String variable for the title of the review.\n",
    "- **`Review Text`**: String variable for the review body.\n",
    "- **`Positive Feedback Count`**: Positive Integer documenting the number of other customers who found this review positive.\n",
    "- **`Division Name`**: Categorical name of the product high level division.\n",
    "- **`Department Name`**: Categorical name of the product department name.\n",
    "- **`Class Name`**: Categorical name of the product class name.\n",
    "\n",
    "The target:\n",
    "- **`Recommended IND`**: Binary variable stating where the customer recommends the product where `1 is recommended`, `0 is not recommended`."
   ]
  },
  {
   "cell_type": "markdown",
   "id": "49302c6f",
   "metadata": {},
   "source": []
  }
 ],
 "metadata": {
  "kernelspec": {
   "display_name": "code",
   "language": "python",
   "name": "python3"
  },
  "language_info": {
   "name": "python",
   "version": "3.11.11"
  }
 },
 "nbformat": 4,
 "nbformat_minor": 5
}
